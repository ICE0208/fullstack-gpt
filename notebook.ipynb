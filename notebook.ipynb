{
 "cells": [
  {
   "cell_type": "code",
   "execution_count": 7,
   "metadata": {},
   "outputs": [],
   "source": [
    "from langchain.chat_models import ChatOpenAI\n",
    "from langchain.prompts import ChatPromptTemplate\n",
    "from langchain.callbacks import StreamingStdOutCallbackHandler\n",
    "\n",
    "chat = ChatOpenAI(\n",
    "    temperature=0.1, streaming=True, callbacks=[StreamingStdOutCallbackHandler()]\n",
    ")\n",
    "\n",
    "chef_prompt = ChatPromptTemplate.from_messages(\n",
    "    [\n",
    "        (\n",
    "            \"system\",\n",
    "            \"You are a world-class international chef. You create easy to follow recipies for any type of cuisine with easy to find ingredients.\",\n",
    "        ),\n",
    "        (\"human\", \"I want to cook {cuisine} food.\"),\n",
    "    ]\n",
    ")\n",
    "\n",
    "chef_chain = chef_prompt | chat"
   ]
  },
  {
   "cell_type": "code",
   "execution_count": 8,
   "metadata": {},
   "outputs": [
    {
     "name": "stdout",
     "output_type": "stream",
     "text": [
      "Great choice! Indian cuisine is known for its bold flavors and aromatic spices. Here's a recipe for a classic Indian dish called Butter Chicken:\n",
      "\n",
      "Ingredients:\n",
      "- 500g boneless chicken, cut into bite-sized pieces\n",
      "- 2 tablespoons butter\n",
      "- 1 onion, finely chopped\n",
      "- 2 cloves of garlic, minced\n",
      "- 1-inch piece of ginger, grated\n",
      "- 2 teaspoons garam masala\n",
      "- 1 teaspoon turmeric powder\n",
      "- 1 teaspoon chili powder (adjust according to your spice preference)\n",
      "- 1 cup tomato puree\n",
      "- 1/2 cup heavy cream\n",
      "- Salt to taste\n",
      "- Fresh cilantro leaves, for garnish\n",
      "\n",
      "Instructions:\n",
      "1. Heat the butter in a large pan over medium heat. Add the chopped onions and sauté until they turn golden brown.\n",
      "\n",
      "2. Add the minced garlic and grated ginger to the pan. Sauté for another minute until fragrant.\n",
      "\n",
      "3. In a small bowl, mix together the garam masala, turmeric powder, and chili powder. Add this spice mixture to the pan and cook for a minute to release the flavors.\n",
      "\n",
      "4. Add the chicken pieces to the pan and cook until they are lightly browned on all sides.\n",
      "\n",
      "5. Pour in the tomato puree and stir well to coat the chicken. Reduce the heat to low, cover the pan, and let it simmer for about 15-20 minutes, or until the chicken is cooked through.\n",
      "\n",
      "6. Stir in the heavy cream and season with salt to taste. Simmer for an additional 5 minutes to allow the flavors to meld together.\n",
      "\n",
      "7. Garnish with fresh cilantro leaves and serve hot with steamed rice or naan bread.\n",
      "\n",
      "Enjoy your homemade Butter Chicken!인도 요리는 강렬한 맛과 향신료의 향이 특징입니다. 전통적인 인도 요리인 버터 치킨의 레시피를 소개해 드리겠습니다.\n",
      "\n",
      "재료:\n",
      "- 500g 뼈 없는 닭고기, 한 입 크기로 자른 것\n",
      "- 2 큰 숟가락 버터\n",
      "- 양파 1개, 잘게 다진 것\n",
      "- 마늘 2쪽, 다진 것\n",
      "- 생강 1인치 크기,------------\n",
      "인도 요리는 강렬한 맛과 향신료의 향이 특징입니다. 전통적인 인도 요리인 버터 치킨의 레시피를 소개해 드리겠습니다.\n",
      "\n",
      "재료:\n",
      "- 500g 뼈 없는 닭고기, 한 입 크기로 자른 것\n",
      "- 2 큰 숟가락 버터\n",
      "- 양파 1개, 잘게 다진 것\n",
      "- 마늘 2쪽, 다진 것\n",
      "- 생강 1인치 크기,\n"
     ]
    }
   ],
   "source": [
    "veg_chef_prompt = ChatPromptTemplate.from_messages(\n",
    "    [\n",
    "        (\n",
    "            \"system\",\n",
    "            \"You are a vegetarian chef specialized on making traditional recipes vegetarian. You find alternative ingredients and explain their preparation. You don't radically modify the recipe. If there is no alternative for a food just say you don't know how to recipe it. finally, Answer in KOREAN\",\n",
    "        ),\n",
    "        (\"human\", \"{recipe}\"),\n",
    "    ]\n",
    ")\n",
    "\n",
    "veg_chain = veg_chef_prompt | chat\n",
    "\n",
    "final_chain = {\"recipe\": chef_chain} | veg_chain\n",
    "\n",
    "final_result = final_chain.invoke({\"cuisine\": \"indian\"})\n",
    "print(\"------------\")\n",
    "print(final_result.content)"
   ]
  }
 ],
 "metadata": {
  "kernelspec": {
   "display_name": "env",
   "language": "python",
   "name": "python3"
  },
  "language_info": {
   "codemirror_mode": {
    "name": "ipython",
    "version": 3
   },
   "file_extension": ".py",
   "mimetype": "text/x-python",
   "name": "python",
   "nbconvert_exporter": "python",
   "pygments_lexer": "ipython3",
   "version": "3.11.0"
  }
 },
 "nbformat": 4,
 "nbformat_minor": 2
}
